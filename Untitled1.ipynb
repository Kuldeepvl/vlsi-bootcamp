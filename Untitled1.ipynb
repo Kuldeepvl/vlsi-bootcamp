{
  "nbformat": 4,
  "nbformat_minor": 0,
  "metadata": {
    "colab": {
      "provenance": [],
      "authorship_tag": "ABX9TyNmjwD36HkmtJp9bjvTyPsv",
      "include_colab_link": true
    },
    "kernelspec": {
      "name": "python3",
      "display_name": "Python 3"
    },
    "language_info": {
      "name": "python"
    }
  },
  "cells": [
    {
      "cell_type": "markdown",
      "metadata": {
        "id": "view-in-github",
        "colab_type": "text"
      },
      "source": [
        "<a href=\"https://colab.research.google.com/github/Kuldeepvl/vlsi-bootcamp/blob/main/Untitled1.ipynb\" target=\"_parent\"><img src=\"https://colab.research.google.com/assets/colab-badge.svg\" alt=\"Open In Colab\"/></a>"
      ]
    },
    {
      "cell_type": "code",
      "source": [],
      "metadata": {
        "id": "XBAewpvWk-CD"
      },
      "execution_count": null,
      "outputs": []
    },
    {
      "cell_type": "markdown",
      "source": [],
      "metadata": {
        "id": "mYFM1MwTZhiS"
      }
    },
    {
      "cell_type": "code",
      "source": [
        "#print(\"Hey world\")"
      ],
      "metadata": {
        "id": "2XGZnIxlZiO1"
      },
      "execution_count": 34,
      "outputs": []
    },
    {
      "cell_type": "code",
      "execution_count": 35,
      "metadata": {
        "id": "tYZGpktTZRzg"
      },
      "outputs": [],
      "source": [
        "#Data types of python\n",
        "#a=56\n",
        "#b=4.132\n",
        "#c=\"hello\"\n",
        "#d=True\n",
        "#e=False\n",
        "##print(type(a))\n",
        "#print(type(b))\n",
        "#print(type(c))\n",
        "#print(type(d))\n",
        "#print(type(e))"
      ]
    },
    {
      "cell_type": "code",
      "source": [
        "#from os import name\n",
        "# basic input\n",
        "#name = input(\"enter your name :\")\n",
        "#print(\"hello\", name);"
      ],
      "metadata": {
        "id": "S5AI8eMHa-_m"
      },
      "execution_count": 36,
      "outputs": []
    },
    {
      "cell_type": "code",
      "source": [
        "a = \"E\"\n",
        "b = \"C\"\n",
        "C = a + \"32\" + b\n",
        "print(C)"
      ],
      "metadata": {
        "colab": {
          "base_uri": "https://localhost:8080/"
        },
        "id": "HwVduLLkbmli",
        "outputId": "25ed6f0f-fa50-4a24-a9c2-42a8c7ebf1a5"
      },
      "execution_count": 37,
      "outputs": [
        {
          "output_type": "stream",
          "name": "stdout",
          "text": [
            "E32C\n"
          ]
        }
      ]
    },
    {
      "cell_type": "code",
      "source": [
        "name= \"John wick\"\n",
        "name_upper_case = name.upper()\n",
        "print(name_upper_case)\n",
        "print(name.lower())\n",
        "x= name[2:6]\n",
        "print(x)\n",
        "x= name[2:7:2]\n",
        "print(x)\n",
        "x= name[6:1:-1]\n",
        "print(x)\n",
        "x= name[6:1:2]\n",
        "print(x)\n",
        "x= name[3:]\n",
        "print(x)\n",
        "x= name[::-1]\n",
        "print(x)"
      ],
      "metadata": {
        "colab": {
          "base_uri": "https://localhost:8080/"
        },
        "id": "Zw0j6Klbdrnp",
        "outputId": "4cb8cf3f-b6aa-461d-cf84-0d2d1510d832"
      },
      "execution_count": 38,
      "outputs": [
        {
          "output_type": "stream",
          "name": "stdout",
          "text": [
            "JOHN WICK\n",
            "john wick\n",
            "hn w\n",
            "h i\n",
            "iw nh\n",
            "\n",
            "n wick\n",
            "kciw nhoJ\n"
          ]
        }
      ]
    },
    {
      "cell_type": "code",
      "source": [
        "marks= int(input(\"enter ur marks\"))\n",
        "if marks >= 90:\n",
        "  print(\"Grade A\")\n",
        "elif marks >= 80:\n",
        "    print(\"Grade B\")\n",
        "elif marks >= 70:\n",
        "    print(\"Grade C\")\n",
        "else :\n",
        "    print(\"bye\")"
      ],
      "metadata": {
        "colab": {
          "base_uri": "https://localhost:8080/"
        },
        "id": "W54wsmBxf2t6",
        "outputId": "cf70583d-dabc-470b-fe29-4a71d76c0b45"
      },
      "execution_count": 39,
      "outputs": [
        {
          "output_type": "stream",
          "name": "stdout",
          "text": [
            "enter ur marks80\n",
            "Grade B\n"
          ]
        }
      ]
    },
    {
      "cell_type": "code",
      "source": [
        "marks = [40,60,80,11,15];\n",
        "print(marks[2])\n",
        "print(len(marks))\n",
        "print(marks[1:4])\n",
        "marks.append(43)\n",
        "marks.append(\"ehhh\")\n",
        "print(marks)\n"
      ],
      "metadata": {
        "colab": {
          "base_uri": "https://localhost:8080/"
        },
        "id": "dwz1s1DVgttN",
        "outputId": "31ea1611-fd61-4928-88e8-d97e83f64180"
      },
      "execution_count": 42,
      "outputs": [
        {
          "output_type": "stream",
          "name": "stdout",
          "text": [
            "80\n",
            "5\n",
            "[60, 80, 11]\n",
            "[40, 60, 80, 11, 15, 43, 'ehhh']\n"
          ]
        }
      ]
    },
    {
      "cell_type": "code",
      "source": [
        "arr =[1,2,3,4,5]\n",
        "index=0\n",
        "sum=0\n",
        "while index<len(arr):\n",
        "  sum=sum+arr[index]\n",
        "  index=index+1\n",
        "print(sum)\n",
        "sum = 0\n",
        "for i in arr:\n",
        "  sum=sum+i\n",
        "print(sum)"
      ],
      "metadata": {
        "id": "Db4cf8z0iy4Z"
      },
      "execution_count": null,
      "outputs": []
    },
    {
      "cell_type": "markdown",
      "source": [],
      "metadata": {
        "id": "_qxDoMURk53H"
      }
    },
    {
      "cell_type": "markdown",
      "source": [],
      "metadata": {
        "id": "1tT9q5c3gCPg"
      }
    }
  ]
}